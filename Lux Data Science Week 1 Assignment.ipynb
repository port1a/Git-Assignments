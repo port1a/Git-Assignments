{
 "cells": [
  {
   "cell_type": "code",
   "execution_count": 3,
   "id": "d97cc942",
   "metadata": {},
   "outputs": [],
   "source": [
    "import pandas as pd\n",
    "import matplotlib.pyplot as plt"
   ]
  },
  {
   "cell_type": "code",
   "execution_count": 4,
   "id": "e27ad4cb",
   "metadata": {},
   "outputs": [
    {
     "data": {
      "text/html": [
       "<div>\n",
       "<style scoped>\n",
       "    .dataframe tbody tr th:only-of-type {\n",
       "        vertical-align: middle;\n",
       "    }\n",
       "\n",
       "    .dataframe tbody tr th {\n",
       "        vertical-align: top;\n",
       "    }\n",
       "\n",
       "    .dataframe thead th {\n",
       "        text-align: right;\n",
       "    }\n",
       "</style>\n",
       "<table border=\"1\" class=\"dataframe\">\n",
       "  <thead>\n",
       "    <tr style=\"text-align: right;\">\n",
       "      <th></th>\n",
       "      <th>id</th>\n",
       "      <th>Gender</th>\n",
       "      <th>Customer_Date_of_Birth</th>\n",
       "      <th>Driving_License</th>\n",
       "      <th>Customer_Residence_Sub_County</th>\n",
       "      <th>Previously_Insured</th>\n",
       "      <th>Vehicle_Year_of_Manufacture</th>\n",
       "      <th>Vehicle_Damage</th>\n",
       "      <th>Annual_Premium</th>\n",
       "      <th>Agent_name</th>\n",
       "      <th>Life_policy_start_date</th>\n",
       "      <th>Response</th>\n",
       "    </tr>\n",
       "  </thead>\n",
       "  <tbody>\n",
       "    <tr>\n",
       "      <th>0</th>\n",
       "      <td>549771831</td>\n",
       "      <td>Male</td>\n",
       "      <td>Monday, March 7, 1977</td>\n",
       "      <td>1</td>\n",
       "      <td>EMBAKASI</td>\n",
       "      <td>0</td>\n",
       "      <td>2020</td>\n",
       "      <td>Yes</td>\n",
       "      <td>38294</td>\n",
       "      <td>Jomo Kenyatta</td>\n",
       "      <td>Thursday, December 21, 2023</td>\n",
       "      <td>1</td>\n",
       "    </tr>\n",
       "    <tr>\n",
       "      <th>1</th>\n",
       "      <td>373583351</td>\n",
       "      <td>Male</td>\n",
       "      <td>Sunday, December 29, 2002</td>\n",
       "      <td>1</td>\n",
       "      <td>WESTLANDS</td>\n",
       "      <td>1</td>\n",
       "      <td>2020</td>\n",
       "      <td>No</td>\n",
       "      <td>28619</td>\n",
       "      <td>Obiero Ochieng</td>\n",
       "      <td>Wednesday, June 28, 2023</td>\n",
       "      <td>0</td>\n",
       "    </tr>\n",
       "    <tr>\n",
       "      <th>2</th>\n",
       "      <td>933163655</td>\n",
       "      <td>Female</td>\n",
       "      <td>Tuesday, August 23, 1994</td>\n",
       "      <td>1</td>\n",
       "      <td>DAGORETTI</td>\n",
       "      <td>1</td>\n",
       "      <td>2011</td>\n",
       "      <td>No</td>\n",
       "      <td>27496</td>\n",
       "      <td>Obiero Ochieng</td>\n",
       "      <td>Saturday, December 9, 2023</td>\n",
       "      <td>0</td>\n",
       "    </tr>\n",
       "    <tr>\n",
       "      <th>3</th>\n",
       "      <td>698942186</td>\n",
       "      <td>Female</td>\n",
       "      <td>Thursday, November 18, 1999</td>\n",
       "      <td>1</td>\n",
       "      <td>JUJA</td>\n",
       "      <td>0</td>\n",
       "      <td>2020</td>\n",
       "      <td>Yes</td>\n",
       "      <td>2630</td>\n",
       "      <td>Gitonga Mwangi</td>\n",
       "      <td>Tuesday, July 25, 2023</td>\n",
       "      <td>0</td>\n",
       "    </tr>\n",
       "    <tr>\n",
       "      <th>4</th>\n",
       "      <td>515109822</td>\n",
       "      <td>Male</td>\n",
       "      <td>Thursday, February 22, 2001</td>\n",
       "      <td>1</td>\n",
       "      <td>WESTLANDS</td>\n",
       "      <td>0</td>\n",
       "      <td>2015</td>\n",
       "      <td>Yes</td>\n",
       "      <td>23367</td>\n",
       "      <td>Obiero Ochieng</td>\n",
       "      <td>Saturday, May 13, 2023</td>\n",
       "      <td>0</td>\n",
       "    </tr>\n",
       "  </tbody>\n",
       "</table>\n",
       "</div>"
      ],
      "text/plain": [
       "          id  Gender       Customer_Date_of_Birth  Driving_License  \\\n",
       "0  549771831    Male        Monday, March 7, 1977                1   \n",
       "1  373583351    Male    Sunday, December 29, 2002                1   \n",
       "2  933163655  Female     Tuesday, August 23, 1994                1   \n",
       "3  698942186  Female  Thursday, November 18, 1999                1   \n",
       "4  515109822    Male  Thursday, February 22, 2001                1   \n",
       "\n",
       "  Customer_Residence_Sub_County  Previously_Insured  \\\n",
       "0                      EMBAKASI                   0   \n",
       "1                     WESTLANDS                   1   \n",
       "2                     DAGORETTI                   1   \n",
       "3                          JUJA                   0   \n",
       "4                     WESTLANDS                   0   \n",
       "\n",
       "   Vehicle_Year_of_Manufacture Vehicle_Damage  Annual_Premium      Agent_name  \\\n",
       "0                         2020            Yes           38294   Jomo Kenyatta   \n",
       "1                         2020             No           28619  Obiero Ochieng   \n",
       "2                         2011             No           27496  Obiero Ochieng   \n",
       "3                         2020            Yes            2630  Gitonga Mwangi   \n",
       "4                         2015            Yes           23367  Obiero Ochieng   \n",
       "\n",
       "        Life_policy_start_date  Response  \n",
       "0  Thursday, December 21, 2023         1  \n",
       "1     Wednesday, June 28, 2023         0  \n",
       "2   Saturday, December 9, 2023         0  \n",
       "3       Tuesday, July 25, 2023         0  \n",
       "4       Saturday, May 13, 2023         0  "
      ]
     },
     "execution_count": 4,
     "metadata": {},
     "output_type": "execute_result"
    }
   ],
   "source": [
    "df = pd.read_csv(\"C:\\\\Users\\\\STACY\\\\Downloads\\\\train_data_cross-sell.csv\", encoding='latin1')\n",
    "df.rename(columns={'ÿid':'id'}, inplace=True)\n",
    "df.head()"
   ]
  },
  {
   "cell_type": "markdown",
   "id": "a1945214",
   "metadata": {},
   "source": [
    "#### Sorting names alphabetically"
   ]
  },
  {
   "cell_type": "code",
   "execution_count": 6,
   "id": "a2e6e7c1",
   "metadata": {},
   "outputs": [
    {
     "data": {
      "text/html": [
       "<div>\n",
       "<style scoped>\n",
       "    .dataframe tbody tr th:only-of-type {\n",
       "        vertical-align: middle;\n",
       "    }\n",
       "\n",
       "    .dataframe tbody tr th {\n",
       "        vertical-align: top;\n",
       "    }\n",
       "\n",
       "    .dataframe thead th {\n",
       "        text-align: right;\n",
       "    }\n",
       "</style>\n",
       "<table border=\"1\" class=\"dataframe\">\n",
       "  <thead>\n",
       "    <tr style=\"text-align: right;\">\n",
       "      <th></th>\n",
       "      <th>id</th>\n",
       "      <th>Gender</th>\n",
       "      <th>Customer_Date_of_Birth</th>\n",
       "      <th>Driving_License</th>\n",
       "      <th>Customer_Residence_Sub_County</th>\n",
       "      <th>Previously_Insured</th>\n",
       "      <th>Vehicle_Year_of_Manufacture</th>\n",
       "      <th>Vehicle_Damage</th>\n",
       "      <th>Annual_Premium</th>\n",
       "      <th>Agent_name</th>\n",
       "      <th>Life_policy_start_date</th>\n",
       "      <th>Response</th>\n",
       "    </tr>\n",
       "  </thead>\n",
       "  <tbody>\n",
       "    <tr>\n",
       "      <th>60349</th>\n",
       "      <td>347359018</td>\n",
       "      <td>Male</td>\n",
       "      <td>Saturday, January 9, 1965</td>\n",
       "      <td>1</td>\n",
       "      <td>NAROK SOUTH</td>\n",
       "      <td>1</td>\n",
       "      <td>2009</td>\n",
       "      <td>No</td>\n",
       "      <td>28265</td>\n",
       "      <td>Achieng Kwamboka</td>\n",
       "      <td>Friday, November 10, 2023</td>\n",
       "      <td>0</td>\n",
       "    </tr>\n",
       "    <tr>\n",
       "      <th>86500</th>\n",
       "      <td>349931875</td>\n",
       "      <td>Female</td>\n",
       "      <td>Saturday, March 1, 1986</td>\n",
       "      <td>1</td>\n",
       "      <td>KASARANI</td>\n",
       "      <td>0</td>\n",
       "      <td>2013</td>\n",
       "      <td>Yes</td>\n",
       "      <td>32271</td>\n",
       "      <td>Akinyi Chepkorir</td>\n",
       "      <td>Tuesday, September 12, 2023</td>\n",
       "      <td>0</td>\n",
       "    </tr>\n",
       "    <tr>\n",
       "      <th>87013</th>\n",
       "      <td>760803848</td>\n",
       "      <td>Male</td>\n",
       "      <td>Monday, October 1, 1973</td>\n",
       "      <td>1</td>\n",
       "      <td>KASARANI</td>\n",
       "      <td>0</td>\n",
       "      <td>2017</td>\n",
       "      <td>Yes</td>\n",
       "      <td>2630</td>\n",
       "      <td>Akinyi Chepkorir</td>\n",
       "      <td>Friday, August 4, 2023</td>\n",
       "      <td>0</td>\n",
       "    </tr>\n",
       "    <tr>\n",
       "      <th>84774</th>\n",
       "      <td>576720094</td>\n",
       "      <td>Female</td>\n",
       "      <td>Monday, September 9, 1985</td>\n",
       "      <td>1</td>\n",
       "      <td>ISINYA</td>\n",
       "      <td>0</td>\n",
       "      <td>2015</td>\n",
       "      <td>Yes</td>\n",
       "      <td>2630</td>\n",
       "      <td>Akinyi Chepkorir</td>\n",
       "      <td>Thursday, August 24, 2023</td>\n",
       "      <td>0</td>\n",
       "    </tr>\n",
       "    <tr>\n",
       "      <th>42123</th>\n",
       "      <td>530807088</td>\n",
       "      <td>Female</td>\n",
       "      <td>Tuesday, January 23, 1979</td>\n",
       "      <td>1</td>\n",
       "      <td>KASARANI</td>\n",
       "      <td>1</td>\n",
       "      <td>2009</td>\n",
       "      <td>No</td>\n",
       "      <td>2630</td>\n",
       "      <td>Akinyi Chepkorir</td>\n",
       "      <td>Saturday, April 8, 2023</td>\n",
       "      <td>0</td>\n",
       "    </tr>\n",
       "  </tbody>\n",
       "</table>\n",
       "</div>"
      ],
      "text/plain": [
       "              id  Gender     Customer_Date_of_Birth  Driving_License  \\\n",
       "60349  347359018    Male  Saturday, January 9, 1965                1   \n",
       "86500  349931875  Female    Saturday, March 1, 1986                1   \n",
       "87013  760803848    Male    Monday, October 1, 1973                1   \n",
       "84774  576720094  Female  Monday, September 9, 1985                1   \n",
       "42123  530807088  Female  Tuesday, January 23, 1979                1   \n",
       "\n",
       "      Customer_Residence_Sub_County  Previously_Insured  \\\n",
       "60349                   NAROK SOUTH                   1   \n",
       "86500                      KASARANI                   0   \n",
       "87013                      KASARANI                   0   \n",
       "84774                        ISINYA                   0   \n",
       "42123                      KASARANI                   1   \n",
       "\n",
       "       Vehicle_Year_of_Manufacture Vehicle_Damage  Annual_Premium  \\\n",
       "60349                         2009             No           28265   \n",
       "86500                         2013            Yes           32271   \n",
       "87013                         2017            Yes            2630   \n",
       "84774                         2015            Yes            2630   \n",
       "42123                         2009             No            2630   \n",
       "\n",
       "             Agent_name       Life_policy_start_date  Response  \n",
       "60349  Achieng Kwamboka    Friday, November 10, 2023         0  \n",
       "86500  Akinyi Chepkorir  Tuesday, September 12, 2023         0  \n",
       "87013  Akinyi Chepkorir       Friday, August 4, 2023         0  \n",
       "84774  Akinyi Chepkorir    Thursday, August 24, 2023         0  \n",
       "42123  Akinyi Chepkorir      Saturday, April 8, 2023         0  "
      ]
     },
     "execution_count": 6,
     "metadata": {},
     "output_type": "execute_result"
    }
   ],
   "source": [
    "df.sort_values(by='Agent_name', inplace=True)\n",
    "df.head()"
   ]
  },
  {
   "cell_type": "markdown",
   "id": "495145ac",
   "metadata": {},
   "source": [
    "#### Write a function that returns all the performance category of every agent"
   ]
  },
  {
   "cell_type": "code",
   "execution_count": 7,
   "id": "856ed6ef",
   "metadata": {},
   "outputs": [
    {
     "data": {
      "text/html": [
       "<div>\n",
       "<style scoped>\n",
       "    .dataframe tbody tr th:only-of-type {\n",
       "        vertical-align: middle;\n",
       "    }\n",
       "\n",
       "    .dataframe tbody tr th {\n",
       "        vertical-align: top;\n",
       "    }\n",
       "\n",
       "    .dataframe thead th {\n",
       "        text-align: right;\n",
       "    }\n",
       "</style>\n",
       "<table border=\"1\" class=\"dataframe\">\n",
       "  <thead>\n",
       "    <tr style=\"text-align: right;\">\n",
       "      <th></th>\n",
       "      <th>Agent_name</th>\n",
       "      <th>perfomance_score</th>\n",
       "    </tr>\n",
       "  </thead>\n",
       "  <tbody>\n",
       "    <tr>\n",
       "      <th>0</th>\n",
       "      <td>Achieng Kwamboka</td>\n",
       "      <td>28265</td>\n",
       "    </tr>\n",
       "    <tr>\n",
       "      <th>1</th>\n",
       "      <td>Akinyi Chepkorir</td>\n",
       "      <td>40161</td>\n",
       "    </tr>\n",
       "    <tr>\n",
       "      <th>2</th>\n",
       "      <td>Akoth Cherono</td>\n",
       "      <td>179598</td>\n",
       "    </tr>\n",
       "    <tr>\n",
       "      <th>3</th>\n",
       "      <td>Anyango Auma</td>\n",
       "      <td>18410</td>\n",
       "    </tr>\n",
       "    <tr>\n",
       "      <th>4</th>\n",
       "      <td>Atieno Makena</td>\n",
       "      <td>238417</td>\n",
       "    </tr>\n",
       "    <tr>\n",
       "      <th>...</th>\n",
       "      <td>...</td>\n",
       "      <td>...</td>\n",
       "    </tr>\n",
       "    <tr>\n",
       "      <th>150</th>\n",
       "      <td>Wanjiku Akoth</td>\n",
       "      <td>72124</td>\n",
       "    </tr>\n",
       "    <tr>\n",
       "      <th>151</th>\n",
       "      <td>Wanjiru Atieno</td>\n",
       "      <td>639684</td>\n",
       "    </tr>\n",
       "    <tr>\n",
       "      <th>152</th>\n",
       "      <td>Wanjohi Mbuthia</td>\n",
       "      <td>416928</td>\n",
       "    </tr>\n",
       "    <tr>\n",
       "      <th>153</th>\n",
       "      <td>Waruiru Muthama</td>\n",
       "      <td>622739</td>\n",
       "    </tr>\n",
       "    <tr>\n",
       "      <th>154</th>\n",
       "      <td>Waweru Chege</td>\n",
       "      <td>6208771</td>\n",
       "    </tr>\n",
       "  </tbody>\n",
       "</table>\n",
       "<p>155 rows × 2 columns</p>\n",
       "</div>"
      ],
      "text/plain": [
       "           Agent_name  perfomance_score\n",
       "0    Achieng Kwamboka             28265\n",
       "1    Akinyi Chepkorir             40161\n",
       "2       Akoth Cherono            179598\n",
       "3        Anyango Auma             18410\n",
       "4       Atieno Makena            238417\n",
       "..                ...               ...\n",
       "150     Wanjiku Akoth             72124\n",
       "151    Wanjiru Atieno            639684\n",
       "152   Wanjohi Mbuthia            416928\n",
       "153   Waruiru Muthama            622739\n",
       "154      Waweru Chege           6208771\n",
       "\n",
       "[155 rows x 2 columns]"
      ]
     },
     "execution_count": 7,
     "metadata": {},
     "output_type": "execute_result"
    }
   ],
   "source": [
    "perfomance_score = df.groupby('Agent_name')['Annual_Premium'].sum().reset_index(name='perfomance_score')\n",
    "perfomance_score"
   ]
  },
  {
   "cell_type": "code",
   "execution_count": 9,
   "id": "ac4a9478",
   "metadata": {},
   "outputs": [
    {
     "data": {
      "text/html": [
       "<div>\n",
       "<style scoped>\n",
       "    .dataframe tbody tr th:only-of-type {\n",
       "        vertical-align: middle;\n",
       "    }\n",
       "\n",
       "    .dataframe tbody tr th {\n",
       "        vertical-align: top;\n",
       "    }\n",
       "\n",
       "    .dataframe thead th {\n",
       "        text-align: right;\n",
       "    }\n",
       "</style>\n",
       "<table border=\"1\" class=\"dataframe\">\n",
       "  <thead>\n",
       "    <tr style=\"text-align: right;\">\n",
       "      <th></th>\n",
       "      <th>id</th>\n",
       "      <th>Gender</th>\n",
       "      <th>Customer_Date_of_Birth</th>\n",
       "      <th>Driving_License</th>\n",
       "      <th>Customer_Residence_Sub_County</th>\n",
       "      <th>Previously_Insured</th>\n",
       "      <th>Vehicle_Year_of_Manufacture</th>\n",
       "      <th>Vehicle_Damage</th>\n",
       "      <th>Annual_Premium</th>\n",
       "      <th>Agent_name</th>\n",
       "      <th>Life_policy_start_date</th>\n",
       "      <th>Response</th>\n",
       "      <th>perfomance_score</th>\n",
       "    </tr>\n",
       "  </thead>\n",
       "  <tbody>\n",
       "    <tr>\n",
       "      <th>0</th>\n",
       "      <td>347359018</td>\n",
       "      <td>Male</td>\n",
       "      <td>Saturday, January 9, 1965</td>\n",
       "      <td>1</td>\n",
       "      <td>NAROK SOUTH</td>\n",
       "      <td>1</td>\n",
       "      <td>2009</td>\n",
       "      <td>No</td>\n",
       "      <td>28265</td>\n",
       "      <td>Achieng Kwamboka</td>\n",
       "      <td>Friday, November 10, 2023</td>\n",
       "      <td>0</td>\n",
       "      <td>28265</td>\n",
       "    </tr>\n",
       "    <tr>\n",
       "      <th>1</th>\n",
       "      <td>349931875</td>\n",
       "      <td>Female</td>\n",
       "      <td>Saturday, March 1, 1986</td>\n",
       "      <td>1</td>\n",
       "      <td>KASARANI</td>\n",
       "      <td>0</td>\n",
       "      <td>2013</td>\n",
       "      <td>Yes</td>\n",
       "      <td>32271</td>\n",
       "      <td>Akinyi Chepkorir</td>\n",
       "      <td>Tuesday, September 12, 2023</td>\n",
       "      <td>0</td>\n",
       "      <td>40161</td>\n",
       "    </tr>\n",
       "    <tr>\n",
       "      <th>2</th>\n",
       "      <td>760803848</td>\n",
       "      <td>Male</td>\n",
       "      <td>Monday, October 1, 1973</td>\n",
       "      <td>1</td>\n",
       "      <td>KASARANI</td>\n",
       "      <td>0</td>\n",
       "      <td>2017</td>\n",
       "      <td>Yes</td>\n",
       "      <td>2630</td>\n",
       "      <td>Akinyi Chepkorir</td>\n",
       "      <td>Friday, August 4, 2023</td>\n",
       "      <td>0</td>\n",
       "      <td>40161</td>\n",
       "    </tr>\n",
       "    <tr>\n",
       "      <th>3</th>\n",
       "      <td>576720094</td>\n",
       "      <td>Female</td>\n",
       "      <td>Monday, September 9, 1985</td>\n",
       "      <td>1</td>\n",
       "      <td>ISINYA</td>\n",
       "      <td>0</td>\n",
       "      <td>2015</td>\n",
       "      <td>Yes</td>\n",
       "      <td>2630</td>\n",
       "      <td>Akinyi Chepkorir</td>\n",
       "      <td>Thursday, August 24, 2023</td>\n",
       "      <td>0</td>\n",
       "      <td>40161</td>\n",
       "    </tr>\n",
       "    <tr>\n",
       "      <th>4</th>\n",
       "      <td>530807088</td>\n",
       "      <td>Female</td>\n",
       "      <td>Tuesday, January 23, 1979</td>\n",
       "      <td>1</td>\n",
       "      <td>KASARANI</td>\n",
       "      <td>1</td>\n",
       "      <td>2009</td>\n",
       "      <td>No</td>\n",
       "      <td>2630</td>\n",
       "      <td>Akinyi Chepkorir</td>\n",
       "      <td>Saturday, April 8, 2023</td>\n",
       "      <td>0</td>\n",
       "      <td>40161</td>\n",
       "    </tr>\n",
       "  </tbody>\n",
       "</table>\n",
       "</div>"
      ],
      "text/plain": [
       "          id  Gender     Customer_Date_of_Birth  Driving_License  \\\n",
       "0  347359018    Male  Saturday, January 9, 1965                1   \n",
       "1  349931875  Female    Saturday, March 1, 1986                1   \n",
       "2  760803848    Male    Monday, October 1, 1973                1   \n",
       "3  576720094  Female  Monday, September 9, 1985                1   \n",
       "4  530807088  Female  Tuesday, January 23, 1979                1   \n",
       "\n",
       "  Customer_Residence_Sub_County  Previously_Insured  \\\n",
       "0                   NAROK SOUTH                   1   \n",
       "1                      KASARANI                   0   \n",
       "2                      KASARANI                   0   \n",
       "3                        ISINYA                   0   \n",
       "4                      KASARANI                   1   \n",
       "\n",
       "   Vehicle_Year_of_Manufacture Vehicle_Damage  Annual_Premium  \\\n",
       "0                         2009             No           28265   \n",
       "1                         2013            Yes           32271   \n",
       "2                         2017            Yes            2630   \n",
       "3                         2015            Yes            2630   \n",
       "4                         2009             No            2630   \n",
       "\n",
       "         Agent_name       Life_policy_start_date  Response  perfomance_score  \n",
       "0  Achieng Kwamboka    Friday, November 10, 2023         0             28265  \n",
       "1  Akinyi Chepkorir  Tuesday, September 12, 2023         0             40161  \n",
       "2  Akinyi Chepkorir       Friday, August 4, 2023         0             40161  \n",
       "3  Akinyi Chepkorir    Thursday, August 24, 2023         0             40161  \n",
       "4  Akinyi Chepkorir      Saturday, April 8, 2023         0             40161  "
      ]
     },
     "execution_count": 9,
     "metadata": {},
     "output_type": "execute_result"
    }
   ],
   "source": [
    "df=df.merge(perfomance_score, on = 'Agent_name')\n",
    "df.head()"
   ]
  },
  {
   "cell_type": "code",
   "execution_count": 10,
   "id": "b59b7889",
   "metadata": {},
   "outputs": [
    {
     "data": {
      "text/plain": [
       "{0.25: 1997845221.0, 0.5: 2284661069.0, 0.75: 3540111121.0}"
      ]
     },
     "execution_count": 10,
     "metadata": {},
     "output_type": "execute_result"
    }
   ],
   "source": [
    "perfomance_quartiles = df['perfomance_score'].quantile([0.25, 0.5, 0.75]).to_dict()\n",
    "perfomance_quartiles"
   ]
  },
  {
   "cell_type": "code",
   "execution_count": 11,
   "id": "a65a6fa9",
   "metadata": {},
   "outputs": [
    {
     "data": {
      "text/html": [
       "<div>\n",
       "<style scoped>\n",
       "    .dataframe tbody tr th:only-of-type {\n",
       "        vertical-align: middle;\n",
       "    }\n",
       "\n",
       "    .dataframe tbody tr th {\n",
       "        vertical-align: top;\n",
       "    }\n",
       "\n",
       "    .dataframe thead th {\n",
       "        text-align: right;\n",
       "    }\n",
       "</style>\n",
       "<table border=\"1\" class=\"dataframe\">\n",
       "  <thead>\n",
       "    <tr style=\"text-align: right;\">\n",
       "      <th></th>\n",
       "      <th>Agent_name</th>\n",
       "      <th>perfomance_score</th>\n",
       "      <th>perfomance_category</th>\n",
       "    </tr>\n",
       "  </thead>\n",
       "  <tbody>\n",
       "    <tr>\n",
       "      <th>0</th>\n",
       "      <td>Achieng Kwamboka</td>\n",
       "      <td>28265</td>\n",
       "      <td>Low</td>\n",
       "    </tr>\n",
       "    <tr>\n",
       "      <th>1</th>\n",
       "      <td>Akinyi Chepkorir</td>\n",
       "      <td>40161</td>\n",
       "      <td>Low</td>\n",
       "    </tr>\n",
       "    <tr>\n",
       "      <th>2</th>\n",
       "      <td>Akinyi Chepkorir</td>\n",
       "      <td>40161</td>\n",
       "      <td>Low</td>\n",
       "    </tr>\n",
       "    <tr>\n",
       "      <th>3</th>\n",
       "      <td>Akinyi Chepkorir</td>\n",
       "      <td>40161</td>\n",
       "      <td>Low</td>\n",
       "    </tr>\n",
       "    <tr>\n",
       "      <th>4</th>\n",
       "      <td>Akinyi Chepkorir</td>\n",
       "      <td>40161</td>\n",
       "      <td>Low</td>\n",
       "    </tr>\n",
       "    <tr>\n",
       "      <th>...</th>\n",
       "      <td>...</td>\n",
       "      <td>...</td>\n",
       "      <td>...</td>\n",
       "    </tr>\n",
       "    <tr>\n",
       "      <th>324461</th>\n",
       "      <td>Waweru Chege</td>\n",
       "      <td>6208771</td>\n",
       "      <td>Low</td>\n",
       "    </tr>\n",
       "    <tr>\n",
       "      <th>324462</th>\n",
       "      <td>Waweru Chege</td>\n",
       "      <td>6208771</td>\n",
       "      <td>Low</td>\n",
       "    </tr>\n",
       "    <tr>\n",
       "      <th>324463</th>\n",
       "      <td>Waweru Chege</td>\n",
       "      <td>6208771</td>\n",
       "      <td>Low</td>\n",
       "    </tr>\n",
       "    <tr>\n",
       "      <th>324464</th>\n",
       "      <td>Waweru Chege</td>\n",
       "      <td>6208771</td>\n",
       "      <td>Low</td>\n",
       "    </tr>\n",
       "    <tr>\n",
       "      <th>324465</th>\n",
       "      <td>Waweru Chege</td>\n",
       "      <td>6208771</td>\n",
       "      <td>Low</td>\n",
       "    </tr>\n",
       "  </tbody>\n",
       "</table>\n",
       "<p>324466 rows × 3 columns</p>\n",
       "</div>"
      ],
      "text/plain": [
       "              Agent_name  perfomance_score perfomance_category\n",
       "0       Achieng Kwamboka             28265                 Low\n",
       "1       Akinyi Chepkorir             40161                 Low\n",
       "2       Akinyi Chepkorir             40161                 Low\n",
       "3       Akinyi Chepkorir             40161                 Low\n",
       "4       Akinyi Chepkorir             40161                 Low\n",
       "...                  ...               ...                 ...\n",
       "324461      Waweru Chege           6208771                 Low\n",
       "324462      Waweru Chege           6208771                 Low\n",
       "324463      Waweru Chege           6208771                 Low\n",
       "324464      Waweru Chege           6208771                 Low\n",
       "324465      Waweru Chege           6208771                 Low\n",
       "\n",
       "[324466 rows x 3 columns]"
      ]
     },
     "execution_count": 11,
     "metadata": {},
     "output_type": "execute_result"
    }
   ],
   "source": [
    "def agent_perf_cat(score):\n",
    "    if score <= perfomance_quartiles[0.25]:\n",
    "        return 'Low'\n",
    "    elif score > perfomance_quartiles[0.25] and score <= perfomance_quartiles[0.5]:\n",
    "        return 'Average'\n",
    "    else:\n",
    "        return 'High'\n",
    "    \n",
    "# Adding the resulting column to the dataframe\n",
    "\n",
    "df['perfomance_category'] = df['perfomance_score'].apply(agent_perf_cat)\n",
    "\n",
    "df[['Agent_name', 'perfomance_score', 'perfomance_category']]"
   ]
  },
  {
   "cell_type": "markdown",
   "id": "3d561666",
   "metadata": {},
   "source": [
    "#### Plot a histogram of policy holder ages"
   ]
  },
  {
   "cell_type": "code",
   "execution_count": 12,
   "id": "4247b258",
   "metadata": {},
   "outputs": [
    {
     "data": {
      "text/plain": [
       "0   21933 days 05:09:01.809118\n",
       "1   14212 days 05:09:01.809118\n",
       "2   18746 days 05:09:01.809118\n",
       "3   14385 days 05:09:01.809118\n",
       "4   16806 days 05:09:01.809118\n",
       "Name: Customer_Date_of_Birth, dtype: timedelta64[ns]"
      ]
     },
     "execution_count": 12,
     "metadata": {},
     "output_type": "execute_result"
    }
   ],
   "source": [
    "time_lapsed = pd.Timestamp.now() - pd.to_datetime(df['Customer_Date_of_Birth'])\n",
    "time_lapsed[:5]"
   ]
  },
  {
   "cell_type": "code",
   "execution_count": 13,
   "id": "b3c08a4b",
   "metadata": {},
   "outputs": [
    {
     "data": {
      "text/plain": [
       "0    21933\n",
       "1    14212\n",
       "2    18746\n",
       "3    14385\n",
       "4    16806\n",
       "Name: Customer_Date_of_Birth, dtype: int64"
      ]
     },
     "execution_count": 13,
     "metadata": {},
     "output_type": "execute_result"
    }
   ],
   "source": [
    "# Converting the timedelta np.array to days\n",
    "time_lapsed.dt.days[:5]"
   ]
  },
  {
   "cell_type": "code",
   "execution_count": 16,
   "id": "3901e2fb",
   "metadata": {},
   "outputs": [
    {
     "data": {
      "text/plain": [
       "0    60\n",
       "1    38\n",
       "2    51\n",
       "3    39\n",
       "4    46\n",
       "Name: Customer_Date_of_Birth, dtype: int64"
      ]
     },
     "execution_count": 16,
     "metadata": {},
     "output_type": "execute_result"
    }
   ],
   "source": [
    "# Converting days to years \n",
    "(time_lapsed.dt.days//365)[:5]"
   ]
  },
  {
   "cell_type": "code",
   "execution_count": 22,
   "id": "8a2b3497",
   "metadata": {},
   "outputs": [
    {
     "data": {
      "text/plain": [
       "Text(0, 0.5, 'Count')"
      ]
     },
     "execution_count": 22,
     "metadata": {},
     "output_type": "execute_result"
    },
    {
     "data": {
      "image/png": "[encoded data removed]",
      "text/plain": [
       "<Figure size 640x480 with 1 Axes>"
      ]
     },
     "metadata": {},
     "output_type": "display_data"
    }
   ],
   "source": [
    "(time_lapsed.dt.days//365).hist()\n",
    "plt.title(\"Histogram of Customer Ages\")\n",
    "plt.xlabel('Age')\n",
    "plt.ylabel('Count')"
   ]
  },
  {
   "cell_type": "code",
   "execution_count": 7,
   "id": "be277c89",
   "metadata": {},
   "outputs": [
    {
     "data": {
      "text/plain": [
       "<AxesSubplot:>"
      ]
     },
     "execution_count": 7,
     "metadata": {},
     "output_type": "execute_result"
    },
    {
     "data": {
      "image/png": "[encoded data removed]",
      "text/plain": [
       "<Figure size 640x480 with 1 Axes>"
      ]
     },
     "metadata": {},
     "output_type": "display_data"
    }
   ],
   "source": [
    "from datetime import datetime\n",
    "current_time = datetime.now().year\n",
    "(current_time - pd.to_datetime(df['Customer_Date_of_Birth']).dt.year).hist()"
   ]
  },
  {
   "cell_type": "markdown",
   "id": "d4ce170e",
   "metadata": {},
   "source": [
    "#### Construct a class (Car) in Python with attributes (make, model, and year of manufacture). "
   ]
  },
  {
   "cell_type": "code",
   "execution_count": 23,
   "id": "0e589cdc",
   "metadata": {},
   "outputs": [],
   "source": [
    "class Car:\n",
    "    def __init__(self, make, model, year):\n",
    "        self.make=make\n",
    "        self.model=model\n",
    "        self.year=year\n",
    "    def describe(self):\n",
    "        print(f\"{self.make} {self.model}, {self.year}\")"
   ]
  },
  {
   "cell_type": "code",
   "execution_count": 24,
   "id": "ef9a9613",
   "metadata": {},
   "outputs": [
    {
     "name": "stdout",
     "output_type": "stream",
     "text": [
      "Toyota Camry, 2020\n",
      "None\n",
      "\n",
      "Honda Civic, 2021\n",
      "None\n"
     ]
    }
   ],
   "source": [
    "gari1=Car('Toyota', 'Camry', 2020)\n",
    "print(gari1.describe())\n",
    "print()\n",
    "gari2=Car('Honda', 'Civic', 2021)\n",
    "print(gari2.describe())"
   ]
  },
  {
   "cell_type": "markdown",
   "id": "6698c51b",
   "metadata": {},
   "source": [
    "#### Formula for line of best fit"
   ]
  },
  {
   "cell_type": "markdown",
   "id": "12da0bf2",
   "metadata": {},
   "source": [
    "Regression or Trend Line\n",
    "**y  =  mx  +  b**"
   ]
  },
  {
   "cell_type": "markdown",
   "id": "44f94939",
   "metadata": {},
   "source": [
    "#### Formulae for median with regards to grouped and ungrouped data."
   ]
  },
  {
   "cell_type": "code",
   "execution_count": 43,
   "id": "ab2edba5",
   "metadata": {},
   "outputs": [
    {
     "data": {
      "text/latex": [
       "When N is odd the median is the value of the$\\frac{N + 1}{2}$ th item.\n"
      ],
      "text/plain": [
       "<IPython.core.display.Latex object>"
      ]
     },
     "metadata": {},
     "output_type": "display_data"
    }
   ],
   "source": [
    "%%latex\n",
    "When N is odd the median is the value of the$\\frac{N + 1}{2}$ th item."
   ]
  },
  {
   "cell_type": "code",
   "execution_count": 77,
   "id": "b74ffb32",
   "metadata": {},
   "outputs": [
    {
     "data": {
      "text/latex": [
       "When N is even, the median is the value of the $\\frac{\\frac{N}{2} + \\frac{N + 1}{2}}{2}$th item\n"
      ],
      "text/plain": [
       "<IPython.core.display.Latex object>"
      ]
     },
     "metadata": {},
     "output_type": "display_data"
    }
   ],
   "source": [
    "%%latex\n",
    "When N is even, the median is the value of the $\\frac{\\frac{N}{2} + \\frac{N + 1}{2}}{2}$"
   ]
  },
  {
   "cell_type": "code",
   "execution_count": 107,
   "id": "6176b5d2",
   "metadata": {},
   "outputs": [
    {
     "data": {
      "text/latex": [
       "For grouped data \n",
       "$\\\\$\n",
       "For a discrete series:\n",
       "$\\\\$\n",
       "Median = size of $\\frac{N + 1}{2}$ th item\n"
      ],
      "text/plain": [
       "<IPython.core.display.Latex object>"
      ]
     },
     "metadata": {},
     "output_type": "display_data"
    }
   ],
   "source": [
    "%%latex\n",
    "For grouped data \n",
    "$\\\\$\n",
    "For a discrete series:\n",
    "$\\\\$\n",
    "Median = size of $\\frac{N + 1}{2}$ th item"
   ]
  },
  {
   "cell_type": "code",
   "execution_count": 108,
   "id": "eb045e6e",
   "metadata": {},
   "outputs": [
    {
     "data": {
      "text/latex": [
       "For grouped data in a continuous series $\\\\$\n",
       "Median = $L_{1}$ + $[\\frac{\\frac{N}{2} - c.f.}{f} ]i $ where $\\\\$\n",
       "L1 = lower limit of the median class $\\\\$\n",
       "\n",
       "c.f. = cumulative frequency of the class preceding the median class $\\\\$\n",
       "\n",
       "f = simple frequency of the median class $\\\\$\n",
       "\n",
       "i = class size of the median group or class\n"
      ],
      "text/plain": [
       "<IPython.core.display.Latex object>"
      ]
     },
     "metadata": {},
     "output_type": "display_data"
    }
   ],
   "source": [
    "%%latex\n",
    "For grouped data in a continuous series $\\\\$\n",
    "Median = $L_{1}$ + $[\\frac{\\frac{N}{2} - c.f.}{f} ]i $ where $\\\\$\n",
    "L1 = lower limit of the median class $\\\\$\n",
    "\n",
    "c.f. = cumulative frequency of the class preceding the median class $\\\\$\n",
    "\n",
    "f = simple frequency of the median class $\\\\$\n",
    "\n",
    "i = class size of the median group or class"
   ]
  },
  {
   "cell_type": "markdown",
   "id": "39f74252",
   "metadata": {},
   "source": [
    "### Homoscedasticity"
   ]
  },
  {
   "attachments": {
    "heteroscedastic-relationships.png": {
     "image/png": "[encoded data removed]"
    }
   },
   "cell_type": "markdown",
   "id": "44d49135",
   "metadata": {},
   "source": [
    "Homoscedasticity, or homogeneity of variances, is an assumption of equal or similar variances in different groups being compared. This is such that the variances along the line of best fit remain similar as you move along the line.\n",
    "\n",
    "\n",
    "![heteroscedastic-relationships.png](attachment:heteroscedastic-relationships.png)\n",
    "\n",
    "It enhances precision of parameter estimates in regression models and reduces biased standard errors"
   ]
  },
  {
   "cell_type": "markdown",
   "id": "956d631f",
   "metadata": {},
   "source": [
    "#### What is the difference between a boxplot and a countplot?"
   ]
  },
  {
   "cell_type": "markdown",
   "id": "c8599449",
   "metadata": {},
   "source": [
    "A box plot is used to visualize the distribution of the data while a countplot is used to visualize the frequency of the data."
   ]
  },
  {
   "cell_type": "code",
   "execution_count": 110,
   "id": "1dc87d64",
   "metadata": {},
   "outputs": [
    {
     "data": {
      "image/png": "[encoded data removed]",
      "text/plain": [
       "<Figure size 600x300 with 2 Axes>"
      ]
     },
     "metadata": {},
     "output_type": "display_data"
    }
   ],
   "source": [
    "import seaborn as sns\n",
    "# Sample data\n",
    "data = pd.DataFrame({\n",
    "    'Category': ['A', 'B', 'A', 'B', 'C', 'A', 'C', 'B', 'A', 'C'],\n",
    "    'Value': [12, 15, 18, 17, 13, 19, 20, 16, 21, 14]\n",
    "})\n",
    "\n",
    "# Create a figure to hold both plots\n",
    "plt.figure(figsize=(6, 3))\n",
    "\n",
    "# Boxplot\n",
    "plt.subplot(1, 2, 1)\n",
    "sns.boxplot(x='Category', y='Value', data=data)\n",
    "plt.title('Boxplot')\n",
    "\n",
    "# Countplot\n",
    "plt.subplot(1, 2, 2)\n",
    "sns.countplot(x='Category', data=data)\n",
    "plt.title('Countplot')\n",
    "\n",
    "# Show the plots\n",
    "plt.tight_layout()\n",
    "plt.show()\n"
   ]
  },
  {
   "cell_type": "markdown",
   "id": "8b3e0bbb",
   "metadata": {},
   "source": [
    "#### Get the absolute deviation mean using a for loop and a function"
   ]
  },
  {
   "cell_type": "code",
   "execution_count": 120,
   "id": "7cde36f3",
   "metadata": {},
   "outputs": [],
   "source": [
    "def mean_abs_dev(numbers):\n",
    "    numbers_mean = sum(numbers)/len(numbers)\n",
    "    deviations = []\n",
    "    for number in numbers:\n",
    "        deviations.append(abs(number-numbers_mean))\n",
    "    return sum(deviations)/len(deviations)\n",
    "        "
   ]
  },
  {
   "cell_type": "code",
   "execution_count": 125,
   "id": "8cc84380",
   "metadata": {},
   "outputs": [
    {
     "data": {
      "text/plain": [
       "12.543209876543209"
      ]
     },
     "execution_count": 125,
     "metadata": {},
     "output_type": "execute_result"
    }
   ],
   "source": [
    "numbers=[5,6,7,8,9,11,1,24,62]\n",
    "mean_abs_dev(numbers)"
   ]
  },
  {
   "cell_type": "markdown",
   "id": "1fd19f0b",
   "metadata": {},
   "source": [
    "#### Find different percentiles of (my_list) without using libraries"
   ]
  },
  {
   "cell_type": "code",
   "execution_count": 141,
   "id": "3d89b18d",
   "metadata": {},
   "outputs": [
    {
     "data": {
      "text/html": [
       "<div>\n",
       "<style scoped>\n",
       "    .dataframe tbody tr th:only-of-type {\n",
       "        vertical-align: middle;\n",
       "    }\n",
       "\n",
       "    .dataframe tbody tr th {\n",
       "        vertical-align: top;\n",
       "    }\n",
       "\n",
       "    .dataframe thead th {\n",
       "        text-align: right;\n",
       "    }\n",
       "</style>\n",
       "<table border=\"1\" class=\"dataframe\">\n",
       "  <thead>\n",
       "    <tr style=\"text-align: right;\">\n",
       "      <th></th>\n",
       "      <th>0</th>\n",
       "    </tr>\n",
       "  </thead>\n",
       "  <tbody>\n",
       "    <tr>\n",
       "      <th>0.1</th>\n",
       "      <td>10.0</td>\n",
       "    </tr>\n",
       "    <tr>\n",
       "      <th>0.7</th>\n",
       "      <td>70.0</td>\n",
       "    </tr>\n",
       "    <tr>\n",
       "      <th>0.9</th>\n",
       "      <td>90.0</td>\n",
       "    </tr>\n",
       "  </tbody>\n",
       "</table>\n",
       "</div>"
      ],
      "text/plain": [
       "        0\n",
       "0.1  10.0\n",
       "0.7  70.0\n",
       "0.9  90.0"
      ]
     },
     "execution_count": 141,
     "metadata": {},
     "output_type": "execute_result"
    }
   ],
   "source": [
    "# Sample list\n",
    "my_list = [0,10,20,30,40,50,60,70,80,90,100]\n",
    "# Function to obtain quantiles\n",
    "def get_quantiles(number_list, quantiles):\n",
    "    return pd.DataFrame(number_list).quantile(quantiles)\n",
    "\n",
    "get_quantiles(my_list, [0.1,0.7,0.9])"
   ]
  },
  {
   "cell_type": "markdown",
   "id": "bcbd0113",
   "metadata": {},
   "source": [
    "#### What distribution usually has the same mean, median, and mode?\n",
    "**Symmetric distribution**"
   ]
  },
  {
   "cell_type": "code",
   "execution_count": null,
   "id": "f8604708",
   "metadata": {},
   "outputs": [],
   "source": []
  }
 ],
 "metadata": {
  "kernelspec": {
   "display_name": "Python 3 (ipykernel)",
   "language": "python",
   "name": "python3"
  },
  "language_info": {
   "codemirror_mode": {
    "name": "ipython",
    "version": 3
   },
   "file_extension": ".py",
   "mimetype": "text/x-python",
   "name": "python",
   "nbconvert_exporter": "python",
   "pygments_lexer": "ipython3",
   "version": "3.9.13"
  }
 },
 "nbformat": 4,
 "nbformat_minor": 5
}
